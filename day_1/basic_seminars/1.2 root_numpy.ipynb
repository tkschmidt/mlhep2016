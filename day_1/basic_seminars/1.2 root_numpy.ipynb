{
 "cells": [
  {
   "cell_type": "markdown",
   "metadata": {
    "slideshow": {
     "slide_type": "slide"
    }
   },
   "source": [
    "# root_numpy\n",
    "Allows to read and write ROOT files with data in simple formats inside."
   ]
  },
  {
   "cell_type": "code",
   "execution_count": 1,
   "metadata": {
    "collapsed": true,
    "slideshow": {
     "slide_type": "skip"
    }
   },
   "outputs": [],
   "source": [
    "import root_numpy"
   ]
  },
  {
   "cell_type": "markdown",
   "metadata": {
    "slideshow": {
     "slide_type": "slide"
    }
   },
   "source": [
    "# Reading .root"
   ]
  },
  {
   "cell_type": "code",
   "execution_count": 2,
   "metadata": {
    "collapsed": true
   },
   "outputs": [],
   "source": [
    "ROOT_EXAMPLE_FILE = \"public_train_10000.root\""
   ]
  },
  {
   "cell_type": "markdown",
   "metadata": {},
   "source": [
    "List trees in a ROOT file."
   ]
  },
  {
   "cell_type": "code",
   "execution_count": 3,
   "metadata": {
    "collapsed": false
   },
   "outputs": [],
   "source": [
    "treename = root_numpy.list_trees(ROOT_EXAMPLE_FILE)[0]"
   ]
  },
  {
   "cell_type": "markdown",
   "metadata": {},
   "source": [
    "List branches"
   ]
  },
  {
   "cell_type": "code",
   "execution_count": 4,
   "metadata": {
    "collapsed": false
   },
   "outputs": [
    {
     "data": {
      "text/plain": [
       "['event_id',\n",
       " 'target',\n",
       " 'lepton_pt',\n",
       " 'lepton_eta',\n",
       " 'lepton_phi',\n",
       " 'mem_pt',\n",
       " 'mem_phi',\n",
       " 'jet1_pt',\n",
       " 'jet1_eta',\n",
       " 'jet1_phi',\n",
       " 'jet1_btag',\n",
       " 'jet2_pt',\n",
       " 'jet2_eta',\n",
       " 'jet2_phi',\n",
       " 'jet2_btag',\n",
       " 'jet3_pt',\n",
       " 'jet3_eta',\n",
       " 'jet3_phi',\n",
       " 'jet3_btag',\n",
       " 'jet4_pt',\n",
       " 'jet4_eta',\n",
       " 'jet4_phi',\n",
       " 'jet4_btag',\n",
       " 'm_jj',\n",
       " 'm_jjj',\n",
       " 'm_lv',\n",
       " 'm_jlv',\n",
       " 'm_bb',\n",
       " 'm_wbb',\n",
       " 'm_wwbb']"
      ]
     },
     "execution_count": 4,
     "metadata": {},
     "output_type": "execute_result"
    }
   ],
   "source": [
    "root_numpy.list_branches(ROOT_EXAMPLE_FILE, treename=treename)"
   ]
  },
  {
   "cell_type": "markdown",
   "metadata": {
    "slideshow": {
     "slide_type": "slide"
    }
   },
   "source": [
    "## Main function: reading a ROOT file"
   ]
  },
  {
   "cell_type": "code",
   "execution_count": 7,
   "metadata": {
    "collapsed": false
   },
   "outputs": [],
   "source": [
    "root2array_example = root_numpy.root2array(ROOT_EXAMPLE_FILE)"
   ]
  },
  {
   "cell_type": "code",
   "execution_count": 8,
   "metadata": {
    "collapsed": false
   },
   "outputs": [
    {
     "data": {
      "text/plain": [
       "('event_id',\n",
       " 'target',\n",
       " 'lepton_pt',\n",
       " 'lepton_eta',\n",
       " 'lepton_phi',\n",
       " 'mem_pt',\n",
       " 'mem_phi',\n",
       " 'jet1_pt',\n",
       " 'jet1_eta',\n",
       " 'jet1_phi',\n",
       " 'jet1_btag',\n",
       " 'jet2_pt',\n",
       " 'jet2_eta',\n",
       " 'jet2_phi',\n",
       " 'jet2_btag',\n",
       " 'jet3_pt',\n",
       " 'jet3_eta',\n",
       " 'jet3_phi',\n",
       " 'jet3_btag',\n",
       " 'jet4_pt',\n",
       " 'jet4_eta',\n",
       " 'jet4_phi',\n",
       " 'jet4_btag',\n",
       " 'm_jj',\n",
       " 'm_jjj',\n",
       " 'm_lv',\n",
       " 'm_jlv',\n",
       " 'm_bb',\n",
       " 'm_wbb',\n",
       " 'm_wwbb')"
      ]
     },
     "execution_count": 8,
     "metadata": {},
     "output_type": "execute_result"
    }
   ],
   "source": [
    "root2array_example.dtype.names"
   ]
  },
  {
   "cell_type": "code",
   "execution_count": 9,
   "metadata": {
    "collapsed": false
   },
   "outputs": [
    {
     "data": {
      "text/plain": [
       "numpy.ndarray"
      ]
     },
     "execution_count": 9,
     "metadata": {},
     "output_type": "execute_result"
    }
   ],
   "source": [
    "type(root2array_example)"
   ]
  },
  {
   "cell_type": "code",
   "execution_count": 10,
   "metadata": {
    "collapsed": false
   },
   "outputs": [
    {
     "data": {
      "text/plain": [
       "(10000,)"
      ]
     },
     "execution_count": 10,
     "metadata": {},
     "output_type": "execute_result"
    }
   ],
   "source": [
    "# We have 10000 entities\n",
    "root2array_example.shape"
   ]
  },
  {
   "cell_type": "code",
   "execution_count": 11,
   "metadata": {
    "collapsed": false
   },
   "outputs": [
    {
     "data": {
      "text/plain": [
       "(1000001, 1.0, 34.75056838989258, 0.7870253324508667, 1.8988913297653198, 20.86243438720703, -2.6229982376098633, 44.81414794921875, -0.16817058622837067, 2.631594657897949, 2.0000228881835938, 57.68952178955078, -0.16162846982479095, -0.6820473074913025, 0.0, 71.9542007446289, 1.1542326211929321, -2.858513116836548, 2.0000159740448, 79.94803619384766, 0.8774719834327698, -0.25673550367355347, 0.0, 81.72444915771484, 189.58314514160156, 80.11831665039062, 170.08607482910156, 91.12820434570312, 298.4687805175781, 374.6857604980469)"
      ]
     },
     "execution_count": 11,
     "metadata": {},
     "output_type": "execute_result"
    }
   ],
   "source": [
    "# Each is a vector\n",
    "root2array_example[0]"
   ]
  },
  {
   "cell_type": "code",
   "execution_count": 9,
   "metadata": {
    "collapsed": false
   },
   "outputs": [
    {
     "data": {
      "text/plain": [
       "dtype([('event_id', '<i8'), ('target', '<f4'), ('lepton_pt', '<f4'), ('lepton_eta', '<f4'), ('lepton_phi', '<f4'), ('mem_pt', '<f4'), ('mem_phi', '<f4'), ('jet1_pt', '<f4'), ('jet1_eta', '<f4'), ('jet1_phi', '<f4'), ('jet1_btag', '<f4'), ('jet2_pt', '<f4'), ('jet2_eta', '<f4'), ('jet2_phi', '<f4'), ('jet2_btag', '<f4'), ('jet3_pt', '<f4'), ('jet3_eta', '<f4'), ('jet3_phi', '<f4'), ('jet3_btag', '<f4'), ('jet4_pt', '<f4'), ('jet4_eta', '<f4'), ('jet4_phi', '<f4'), ('jet4_btag', '<f4'), ('m_jj', '<f4'), ('m_jjj', '<f4'), ('m_lv', '<f4'), ('m_jlv', '<f4'), ('m_bb', '<f4'), ('m_wbb', '<f4'), ('m_wwbb', '<f4')])"
      ]
     },
     "execution_count": 9,
     "metadata": {},
     "output_type": "execute_result"
    }
   ],
   "source": [
    "# With the fields corresponding to the brnaches\n",
    "root2array_example.dtype"
   ]
  },
  {
   "cell_type": "code",
   "execution_count": 10,
   "metadata": {
    "collapsed": false
   },
   "outputs": [
    {
     "data": {
      "text/plain": [
       "array([(1000001, 80.11831665039062), (1000002, 83.3215560913086),\n",
       "       (1000003, 95.30760192871094), ..., (1009998, 81.17916107177734),\n",
       "       (1009999, 85.55708312988281), (1010000, 78.98086547851562)], \n",
       "      dtype=[('event_id', '<i8'), ('m_lv', '<f4')])"
      ]
     },
     "execution_count": 10,
     "metadata": {},
     "output_type": "execute_result"
    }
   ],
   "source": [
    "# Reading can be limited to specific branches\n",
    "root_numpy.root2array(ROOT_EXAMPLE_FILE, branches=(\"event_id\", \"m_lv\"))"
   ]
  },
  {
   "cell_type": "code",
   "execution_count": 44,
   "metadata": {
    "collapsed": false
   },
   "outputs": [
    {
     "data": {
      "text/plain": [
       "(400,)"
      ]
     },
     "execution_count": 44,
     "metadata": {},
     "output_type": "execute_result"
    }
   ],
   "source": [
    "# And event range\n",
    "root_numpy.root2array(ROOT_EXAMPLE_FILE, start=100, stop=500).shape"
   ]
  },
  {
   "cell_type": "markdown",
   "metadata": {},
   "source": [
    "Converting structured array to regular"
   ]
  },
  {
   "cell_type": "code",
   "execution_count": 48,
   "metadata": {
    "collapsed": false
   },
   "outputs": [
    {
     "data": {
      "text/plain": [
       "array([[  1.00000100e+06,   1.00000000e+00,   3.47505684e+01, ...,\n",
       "          9.11282043e+01,   2.98468781e+02,   3.74685760e+02],\n",
       "       [  1.00000200e+06,   1.00000000e+00,   5.42509270e+01, ...,\n",
       "          6.71184845e+01,   2.87363983e+02,   5.27247559e+02],\n",
       "       [  1.00000300e+06,   1.00000000e+00,   4.77460251e+01, ...,\n",
       "          1.30389206e+02,   2.37879318e+02,   3.36058838e+02],\n",
       "       ..., \n",
       "       [  1.00999800e+06,   1.00000000e+00,   1.03452408e+02, ...,\n",
       "          1.28377182e+02,   3.80536560e+02,   5.51422424e+02],\n",
       "       [  1.00999900e+06,   0.00000000e+00,   3.38559570e+01, ...,\n",
       "          1.40375320e+02,   2.64731140e+02,   3.71888153e+02],\n",
       "       [  1.01000000e+06,   0.00000000e+00,   5.01330376e+01, ...,\n",
       "          1.34282303e+02,   3.77124817e+02,   4.87969818e+02]], dtype=float32)"
      ]
     },
     "execution_count": 48,
     "metadata": {},
     "output_type": "execute_result"
    }
   ],
   "source": [
    "import pandas as pd # more about Pandas in short time\n",
    "pd.DataFrame(root2array_example).values"
   ]
  },
  {
   "cell_type": "markdown",
   "metadata": {
    "slideshow": {
     "slide_type": "slide"
    }
   },
   "source": [
    "# Writing .root"
   ]
  },
  {
   "cell_type": "code",
   "execution_count": 12,
   "metadata": {
    "collapsed": false
   },
   "outputs": [
    {
     "data": {
      "text/plain": [
       "array([[-1.14916797,  0.46222215, -1.08987016],\n",
       "       [ 1.37410833, -0.68674231, -0.4191999 ],\n",
       "       [-1.39318508, -0.10149691, -0.08431961]])"
      ]
     },
     "execution_count": 12,
     "metadata": {},
     "output_type": "execute_result"
    }
   ],
   "source": [
    "import numpy as np\n",
    "random_data = np.random.normal(size=(3, 3))\n",
    "random_data"
   ]
  },
  {
   "cell_type": "code",
   "execution_count": 14,
   "metadata": {
    "collapsed": false
   },
   "outputs": [
    {
     "ename": "TypeError",
     "evalue": "object of type 'NoneType' has no len()",
     "output_type": "error",
     "traceback": [
      "\u001b[1;31m---------------------------------------------------------------------------\u001b[0m",
      "\u001b[1;31mTypeError\u001b[0m                                 Traceback (most recent call last)",
      "\u001b[1;32m<ipython-input-14-7e6863a8934c>\u001b[0m in \u001b[0;36m<module>\u001b[1;34m()\u001b[0m\n\u001b[1;32m----> 1\u001b[1;33m \u001b[0mroot_numpy\u001b[0m\u001b[1;33m.\u001b[0m\u001b[0marray2root\u001b[0m\u001b[1;33m(\u001b[0m\u001b[0mrandom_data\u001b[0m\u001b[1;33m,\u001b[0m \u001b[1;34m\"./random_data.root\"\u001b[0m\u001b[1;33m,\u001b[0m \u001b[0mmode\u001b[0m\u001b[1;33m=\u001b[0m\u001b[1;34m\"recreate\"\u001b[0m\u001b[1;33m)\u001b[0m\u001b[1;33m\u001b[0m\u001b[0m\n\u001b[0m",
      "\u001b[1;32m/root/miniconda/envs/rep_py2/lib/python2.7/site-packages/root_numpy/_tree.pyc\u001b[0m in \u001b[0;36marray2root\u001b[1;34m(arr, filename, treename, mode)\u001b[0m\n\u001b[0;32m    447\u001b[0m \u001b[1;33m\u001b[0m\u001b[0m\n\u001b[0;32m    448\u001b[0m     \"\"\"\n\u001b[1;32m--> 449\u001b[1;33m     \u001b[0m_librootnumpy\u001b[0m\u001b[1;33m.\u001b[0m\u001b[0marray2root\u001b[0m\u001b[1;33m(\u001b[0m\u001b[0marr\u001b[0m\u001b[1;33m,\u001b[0m \u001b[0mfilename\u001b[0m\u001b[1;33m,\u001b[0m \u001b[0mtreename\u001b[0m\u001b[1;33m,\u001b[0m \u001b[0mmode\u001b[0m\u001b[1;33m)\u001b[0m\u001b[1;33m\u001b[0m\u001b[0m\n\u001b[0m",
      "\u001b[1;32mtree.pyx\u001b[0m in \u001b[0;36m_librootnumpy.array2root (root_numpy/src/_librootnumpy.cpp:445)\u001b[1;34m()\u001b[0m\n",
      "\u001b[1;32mtree.pyx\u001b[0m in \u001b[0;36m_librootnumpy.array2tree (root_numpy/src/_librootnumpy.cpp:418)\u001b[1;34m()\u001b[0m\n",
      "\u001b[1;32mtree.pyx\u001b[0m in \u001b[0;36m_librootnumpy.array2tree (root_numpy/src/_librootnumpy.cpp:394)\u001b[1;34m()\u001b[0m\n",
      "\u001b[1;31mTypeError\u001b[0m: object of type 'NoneType' has no len()"
     ]
    }
   ],
   "source": [
    "root_numpy.array2root(random_data, \"./random_data.root\", mode=\"recreate\")"
   ]
  },
  {
   "cell_type": "markdown",
   "metadata": {},
   "source": [
    "Root needs to explicitly know the branches names. We set them"
   ]
  },
  {
   "cell_type": "code",
   "execution_count": 16,
   "metadata": {
    "collapsed": false
   },
   "outputs": [],
   "source": [
    "random_data.dtype = [('a', np.float_), ('b', np.float_), ('c', np.float_)]"
   ]
  },
  {
   "cell_type": "markdown",
   "metadata": {},
   "source": [
    "And saving works"
   ]
  },
  {
   "cell_type": "code",
   "execution_count": 17,
   "metadata": {
    "collapsed": true
   },
   "outputs": [],
   "source": [
    "root_numpy.array2root(random_data, \"./random_data.root\", mode=\"recreate\")"
   ]
  },
  {
   "cell_type": "markdown",
   "metadata": {},
   "source": [
    "Verfy"
   ]
  },
  {
   "cell_type": "code",
   "execution_count": 6,
   "metadata": {
    "collapsed": false
   },
   "outputs": [
    {
     "data": {
      "text/plain": [
       "array([(-1.1491679673658817, 0.4622221546089726, -1.0898701638474229),\n",
       "       (1.3741083313516156, -0.6867423099439857, -0.4191998962807615),\n",
       "       (-1.393185076553394, -0.10149691040162417, -0.08431960814633446)], \n",
       "      dtype=[('a', '<f8'), ('b', '<f8'), ('c', '<f8')])"
      ]
     },
     "execution_count": 6,
     "metadata": {},
     "output_type": "execute_result"
    }
   ],
   "source": [
    "root_numpy.root2array(\"./random_data.root\")"
   ]
  }
 ],
 "metadata": {
  "celltoolbar": "Slideshow",
  "kernelspec": {
   "display_name": "Python 2",
   "language": "python",
   "name": "python2"
  },
  "language_info": {
   "codemirror_mode": {
    "name": "ipython",
    "version": 2
   },
   "file_extension": ".py",
   "mimetype": "text/x-python",
   "name": "python",
   "nbconvert_exporter": "python",
   "pygments_lexer": "ipython2",
   "version": "2.7.11"
  }
 },
 "nbformat": 4,
 "nbformat_minor": 0
}
