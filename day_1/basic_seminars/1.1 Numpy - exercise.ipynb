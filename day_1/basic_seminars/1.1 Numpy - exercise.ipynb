{
 "cells": [
  {
   "cell_type": "markdown",
   "metadata": {
    "slideshow": {
     "slide_type": "slide"
    }
   },
   "source": [
    "# NumPy Exercises\n",
    "due to Petr Romov"
   ]
  },
  {
   "cell_type": "code",
   "execution_count": null,
   "metadata": {
    "collapsed": true
   },
   "outputs": [],
   "source": []
  },
  {
   "cell_type": "code",
   "execution_count": 6,
   "metadata": {
    "collapsed": true,
    "slideshow": {
     "slide_type": "-"
    }
   },
   "outputs": [],
   "source": [
    "import numpy as np"
   ]
  },
  {
   "cell_type": "markdown",
   "metadata": {
    "slideshow": {
     "slide_type": "subslide"
    }
   },
   "source": [
    "SELF. Generate a matrix with 1000 rows and 50 columns, elements being drawn from normal distribution $\\mathcal{N}(1, 10)$. Specify random seed to make the result reproducible. Use http://docs.scipy.org/doc/numpy/reference/routines.random.html"
   ]
  },
  {
   "cell_type": "code",
   "execution_count": 13,
   "metadata": {
    "collapsed": false
   },
   "outputs": [],
   "source": [
    "mu =1\n",
    "sigma = 10\n",
    "matrix= sigma * np.random.randn(1000, 50) + mu"
   ]
  },
  {
   "cell_type": "markdown",
   "metadata": {
    "slideshow": {
     "slide_type": "subslide"
    }
   },
   "source": [
    "SELF. Normalize the matrix: subtract from each column its mean and divide by the standard deviation. I suggest np.mean, np.std with axis parameter."
   ]
  },
  {
   "cell_type": "code",
   "execution_count": 16,
   "metadata": {
    "collapsed": false
   },
   "outputs": [
    {
     "data": {
      "text/plain": [
       "array([[-0.39135742,  0.87334122,  0.09505005, ...,  1.35144353,\n",
       "        -0.9575164 , -1.10031056],\n",
       "       [ 1.73697093,  0.10227028, -0.02660374, ..., -1.49731462,\n",
       "         0.89954929, -0.62864381],\n",
       "       [-0.08812675,  0.59585498, -0.96995675, ...,  0.88518057,\n",
       "         0.22327028, -1.15714531],\n",
       "       ..., \n",
       "       [ 0.87467527, -1.160369  , -0.38177164, ..., -0.26442583,\n",
       "        -0.51132751, -0.25923778],\n",
       "       [ 0.55975552,  1.78993275, -0.03195145, ...,  0.75423352,\n",
       "         1.16890567, -0.01400888],\n",
       "       [ 1.70232458,  0.22872087, -0.09478057, ..., -0.23232987,\n",
       "        -0.54121437, -0.16934156]])"
      ]
     },
     "execution_count": 16,
     "metadata": {},
     "output_type": "execute_result"
    }
   ],
   "source": [
    "def af(x):\n",
    "    return((x - np.mean(x)) / np.std(x))\n",
    "\n",
    "np.apply_along_axis(af, 0, matrix)"
   ]
  },
  {
   "cell_type": "markdown",
   "metadata": {
    "slideshow": {
     "slide_type": "subslide"
    }
   },
   "source": [
    "Print for the following matrix row numbers for those rows, where element sum is greater than 10. I suggest np.sum and np.nonzero"
   ]
  },
  {
   "cell_type": "code",
   "execution_count": 18,
   "metadata": {
    "collapsed": false
   },
   "outputs": [],
   "source": [
    "Z = np.array([[4, 5, 0],\n",
    "              [1, 9, 3],\n",
    "              [5, 1, 1],\n",
    "              [3, 3, 3],\n",
    "              [9, 9, 9],\n",
    "              [4, 7, 1]])"
   ]
  },
  {
   "cell_type": "code",
   "execution_count": 25,
   "metadata": {
    "collapsed": false
   },
   "outputs": [
    {
     "data": {
      "text/plain": [
       "(array([1, 4, 5]),)"
      ]
     },
     "execution_count": 25,
     "metadata": {},
     "output_type": "execute_result"
    }
   ],
   "source": [
    "np.nonzero(np.sum(Z, 1) > 10)"
   ]
  },
  {
   "cell_type": "markdown",
   "metadata": {},
   "source": [
    "Write a python function to get N largest values from a 1D or 2D array. It should accept as a mandatory parameter N - the number of values to return and optional axis. If axis is not specified, use the flattened array, if specified - return a matrix with N maximum values for each row or column (depends on the axis). BONUS - allow arrays of arbitary dimensions, axis should work as in https://docs.scipy.org/doc/numpy/reference/generated/numpy.amax.html#numpy.amax"
   ]
  },
  {
   "cell_type": "code",
   "execution_count": 39,
   "metadata": {
    "collapsed": false
   },
   "outputs": [
    {
     "ename": "IndentationError",
     "evalue": "expected an indented block (<ipython-input-39-bd518a8e2aae>, line 7)",
     "output_type": "error",
     "traceback": [
      "\u001b[1;36m  File \u001b[1;32m\"<ipython-input-39-bd518a8e2aae>\"\u001b[1;36m, line \u001b[1;32m7\u001b[0m\n\u001b[1;33m    temp = np.argpartition(matrix, returnvalue, axis)\u001b[0m\n\u001b[1;37m       ^\u001b[0m\n\u001b[1;31mIndentationError\u001b[0m\u001b[1;31m:\u001b[0m expected an indented block\n"
     ]
    }
   ],
   "source": [
    "def getSort(x, numbers):\n",
    "    return((-x).argsort()[:numbers])\n",
    "\n",
    "\n",
    "def doIt(matrix, axis=0, returnvalue= 1):\n",
    "    if axis == 0:\n",
    "        np.apply_along_axis(getSort, axis, matrix)\n",
    "    elif axis == 1:\n",
    "        pass\n",
    "    else:\n",
    "        pass\n",
    "    \n",
    "    temp = np.argpartition(matrix, returnvalue, axis)\n",
    "    return(matrix[temp[:returnvalue]])\n",
    "\n",
    "doIt(Z)\n"
   ]
  },
  {
   "cell_type": "code",
   "execution_count": 46,
   "metadata": {
    "collapsed": false
   },
   "outputs": [
    {
     "data": {
      "text/plain": [
       "array([[0, 4, 5],\n",
       "       [1, 3, 9],\n",
       "       [1, 1, 5],\n",
       "       [3, 3, 3],\n",
       "       [9, 9, 9],\n",
       "       [1, 4, 7]])"
      ]
     },
     "execution_count": 46,
     "metadata": {},
     "output_type": "execute_result"
    }
   ],
   "source": [
    "np.sort(Z)\n"
   ]
  },
  {
   "cell_type": "code",
   "execution_count": null,
   "metadata": {
    "collapsed": true
   },
   "outputs": [],
   "source": []
  }
 ],
 "metadata": {
  "celltoolbar": "Slideshow",
  "kernelspec": {
   "display_name": "Python 2",
   "language": "python",
   "name": "python2"
  },
  "language_info": {
   "codemirror_mode": {
    "name": "ipython",
    "version": 2
   },
   "file_extension": ".py",
   "mimetype": "text/x-python",
   "name": "python",
   "nbconvert_exporter": "python",
   "pygments_lexer": "ipython2",
   "version": "2.7.11"
  }
 },
 "nbformat": 4,
 "nbformat_minor": 0
}
